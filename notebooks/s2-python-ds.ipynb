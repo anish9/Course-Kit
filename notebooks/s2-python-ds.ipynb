{
 "cells": [
  {
   "cell_type": "markdown",
   "id": "190b29ba-b943-4999-b436-c7ee9e5d4376",
   "metadata": {},
   "source": [
    "#### Introduction to Libraries - Numpy, Pandas and OpenCV (Most Common in Data Science)\n",
    "- Numpy - used for all scientific computing.\n",
    "- Pandas - Tabular data analysis and processing.\n",
    "- OpenCV - Image processing."
   ]
  },
  {
   "cell_type": "code",
   "execution_count": 1,
   "id": "6ad9c815-cb04-4f00-a4ad-50481274516f",
   "metadata": {},
   "outputs": [],
   "source": [
    "import cv2\n",
    "import numpy as np\n",
    "import pandas as pd\n",
    "import matplotlib.pyplot as plt\n",
    "import time\n",
    "\n",
    "size  = 100000000"
   ]
  },
  {
   "cell_type": "markdown",
   "id": "e05789b7-033a-48c5-8942-2ba0947fee84",
   "metadata": {},
   "source": [
    "#### Check their versions"
   ]
  },
  {
   "cell_type": "code",
   "execution_count": null,
   "id": "13734572-e061-4ee0-a172-a59a1bde50fc",
   "metadata": {},
   "outputs": [],
   "source": [
    "print(f\"pandas version: {pd.__version__}\")\n",
    "print(f\"numpy version: {np.__version__}\")\n",
    "print(f\"opencv version: {cv2.__version__}\")"
   ]
  },
  {
   "cell_type": "markdown",
   "id": "e2dfb520-9da9-489e-a193-90cc226d2944",
   "metadata": {},
   "source": [
    "#### Testing our code efficiency:\n",
    "- Element wise addtion task:"
   ]
  },
  {
   "cell_type": "markdown",
   "id": "d53b8e7b-2319-4cd7-977c-86a0c64ef6cd",
   "metadata": {},
   "source": [
    "#### Pure python implementation"
   ]
  },
  {
   "cell_type": "code",
   "execution_count": null,
   "id": "40eb5440-1a58-4103-9787-347173a75dd3",
   "metadata": {},
   "outputs": [],
   "source": [
    "a = list(range(size))\n",
    "b = list(range(size))\n",
    "\n",
    "start = time.time()\n",
    "result = []\n",
    "for i in range(size):\n",
    "    result.append(a[i]+b[i])\n",
    "\n",
    "print(\"Pure python time:\", time.time() - start)"
   ]
  },
  {
   "cell_type": "markdown",
   "id": "0e064e78-21ce-4560-a577-25fce4a7bc58",
   "metadata": {},
   "source": [
    "#### Leverage numpy (optimized kernel)"
   ]
  },
  {
   "cell_type": "code",
   "execution_count": 3,
   "id": "988568d8-9486-4840-bfdf-c846a99a71e8",
   "metadata": {},
   "outputs": [
    {
     "name": "stdout",
     "output_type": "stream",
     "text": [
      "NumPy time: 0.21550440788269043\n"
     ]
    }
   ],
   "source": [
    "a = np.arange(size)\n",
    "b = np.arange(size)\n",
    "\n",
    "start = time.time()\n",
    "result = a + b\n",
    "print(\"NumPy time:\", time.time() - start)"
   ]
  },
  {
   "cell_type": "markdown",
   "id": "a511e4b7-7c73-4389-a47c-87e3c8ca69b6",
   "metadata": {},
   "source": [
    "#### Optional block to explore. \n",
    " - when you write your own libraries in c, c++\n",
    " - Leverage this code to test it."
   ]
  },
  {
   "cell_type": "code",
   "execution_count": null,
   "id": "c6ec8654-b292-4555-831e-5a36e7b2df6c",
   "metadata": {},
   "outputs": [],
   "source": [
    "#Your c++ code(for understanding purpose)\n",
    "#######################################################\n",
    "# // my_math.cpp\n",
    "# extern \"C\" int add_numbers(int a, int b) {\n",
    "#     return a + b;\n",
    "# }\n",
    "\n",
    "#.so / .dll / .pyd → a shared library with exported functions that other \n",
    "# programs (like Python) can call; it doesn’t have a main().\n",
    "#######################################################\n",
    "import ctypes\n",
    "\n",
    "compiled_shared_lib_path = \"./my_math.so\"\n",
    "lib = ctypes.CDLL(compiled_shared_lib_path)  # or my_math.dll\n",
    "lib.add_numbers.argtypes = [ctypes.c_int, ctypes.c_int]\n",
    "lib.add_numbers.restype = ctypes.c_int\n",
    "\n",
    "print(lib.add_numbers(5, 7)) "
   ]
  },
  {
   "cell_type": "markdown",
   "id": "7dd702c4-9779-4e86-aec7-827329e26e58",
   "metadata": {},
   "source": [
    "### Numpy - Basics \n",
    "\n",
    "```\n",
    "common dtypes-\n",
    "int8, int16, int32, int64\n",
    "uint8, uint16, uint32, uint64\n",
    "float16, float32, float64, \n",
    "```"
   ]
  },
  {
   "cell_type": "code",
   "execution_count": null,
   "id": "aa1b5298-6576-4dcb-b30b-c5a5be39ac9a",
   "metadata": {},
   "outputs": [],
   "source": [
    "# From list\n",
    "arr = np.array([1, 2, 3])\n",
    "print(arr) #explain data types casting\n",
    "\n",
    "# Zeros, ones, full\n",
    "print(np.zeros((2, 3)))\n",
    "print(np.ones((2, 3)))\n",
    "print(np.full((2, 3), 7))\n",
    "\n",
    "# Range\n",
    "print(np.arange(0, 10, 2))  # 0 to 8 step 2\n",
    "print(np.linspace(0, 1, 5)) # 5 points between 0 and 1\n",
    "\n",
    "# Identity matrix\n",
    "print(np.eye(3))"
   ]
  },
  {
   "cell_type": "markdown",
   "id": "7e073281-ac29-47e1-b68b-8495c1bae9d9",
   "metadata": {},
   "source": [
    "#### Array inspection"
   ]
  },
  {
   "cell_type": "code",
   "execution_count": null,
   "id": "68a91132-0229-4f12-9629-0b36ce40b381",
   "metadata": {},
   "outputs": [],
   "source": [
    "a = np.array([[1, 2, 3], \n",
    "              [4, 5, 6]])\n",
    "print(a.shape)   # (2, 3)\n",
    "print(a.ndim)    # 2\n",
    "print(a.size)    # 6\n",
    "print(a.dtype)   # int64\n",
    "\n",
    "print(a.reshape(3, 2))\n",
    "print(a.ravel())  # Flatten\n",
    "print(a.T)        # Transpose"
   ]
  },
  {
   "cell_type": "markdown",
   "id": "00544e11-d6e3-42a6-b102-209573d273b0",
   "metadata": {},
   "source": [
    "#### Indexing and slicing"
   ]
  },
  {
   "cell_type": "code",
   "execution_count": null,
   "id": "722cacfe-eba9-410f-8d87-e365bae7bbb9",
   "metadata": {},
   "outputs": [],
   "source": [
    "arr = np.array([10, 20, 30, 40, 50])\n",
    "print(arr[1:4])   # slice\n",
    "print(arr[[0, 2, 4]])  # fancy indexing\n",
    "\n",
    "# Boolean indexing\n",
    "print(arr[arr > 25])\n",
    "\n",
    "mat = np.array([[1, 2, 3],\n",
    "                [4, 5, 6],\n",
    "                [7, 8, 9]])\n",
    "print(mat[:, 1])  # all rows, 2nd column"
   ]
  },
  {
   "cell_type": "markdown",
   "id": "865f3c21-ce08-492c-a9d1-9c416f81885e",
   "metadata": {},
   "source": [
    "#### Mathematical operations"
   ]
  },
  {
   "cell_type": "code",
   "execution_count": null,
   "id": "6eba6d08-8e31-4d92-81b7-a435d4c7addc",
   "metadata": {},
   "outputs": [],
   "source": [
    "x = np.array([1, 2, 3])\n",
    "y = np.array([4, 5, 6])\n",
    "\n",
    "print(x + y)\n",
    "print(x - y)\n",
    "print(x * y)\n",
    "print(x / y)\n",
    "print(x ** 2)\n",
    "\n",
    "## explain axis as well\n",
    "print(x.sum())\n",
    "print(x.mean())\n",
    "print(x.std())\n",
    "print(x.min())\n",
    "print(x.max())\n",
    "\n",
    "print(np.argmax(x))  # index of max\n",
    "print(np.argmin(x))  # index of min"
   ]
  },
  {
   "cell_type": "markdown",
   "id": "7b6fe0f9-8414-4ebe-afb9-d265691cb4f5",
   "metadata": {},
   "source": [
    "#### Assignment:\n",
    "- convert the given elements list to an array with dtype : np.float32:\n",
    "    - elements = [1,3,5,7,22,1,23]\n",
    "\n",
    "- Find the mean here - [2,4,6,1.2,43,21]?\n",
    "\n",
    "- Find the values greater than 12 here - [45,21,2,43,56,5]?"
   ]
  },
  {
   "cell_type": "code",
   "execution_count": null,
   "id": "4ff3bdca-ec20-4412-ae15-d64e841259a3",
   "metadata": {},
   "outputs": [],
   "source": [
    "print(np.random.rand(2, 3))       # uniform [0,1)\n",
    "print(np.random.randn(2, 3))      # normal (0,1)\n",
    "print(np.random.randint(1, 10, (2, 3)))  # integers\n",
    "\n",
    "choices = np.array([10, 20, 30, 40])\n",
    "print(np.random.choice(choices, 2))  "
   ]
  },
  {
   "cell_type": "code",
   "execution_count": 7,
   "id": "489fe473-894d-452c-9629-92191abf5cd2",
   "metadata": {},
   "outputs": [],
   "source": [
    "# Generate a sample data or simulate a dummy dataset\n",
    "months = np.arange(1, 13)                              # 1 to 12 months\n",
    "sales = np.random.randint(200, 500, size=12)           # monthly sales\n",
    "profit_margin = np.random.uniform(0.1, 0.4, size=12)   # profit percentage\n",
    "categories = np.random.choice(['Electronics', 'Clothing', 'Food'], size=12)\n",
    "\n",
    "dataset    = pd.DataFrame({\"months\":months,\n",
    "                           \"sales\":sales,\n",
    "                           \"margin\":profit_margin,\n",
    "                           \"categories\":categories}) #transform to a dataset"
   ]
  },
  {
   "cell_type": "markdown",
   "id": "f078ee46-1946-479d-88fb-59f892262c6f",
   "metadata": {},
   "source": [
    "#### Assignment: Generate a Demo Biomedical Dataset\n",
    "1- Create a dataset with 100 rows and 4 columns using NumPy and Pandas:\n",
    "     \n",
    "     -BP_systolic_mmHg\n",
    "         -Type: Integer\n",
    "         -Range: 90–140 mmHg (inclusive)\n",
    "         \n",
    "     -HeartRate_bpm\n",
    "       -Type: Integer\n",
    "       -Range: 60–100 bpm\n",
    "       \n",
    "     -BloodSugar_mg/dL\n",
    "         -Type: Float (1 decimal place)\n",
    "         -Range: 70–160 mg/dL\n",
    "    \n",
    "     -Hypertension\n",
    "         -Type: Boolean\n",
    "         -Tasks:\n",
    "             -Use NumPy to generate the random values according to the ranges above.\n",
    "    \n",
    "2- Create a Pandas DataFrame with the generated data.\n",
    "    \n",
    "3- Display the first 5 rows of the dataset using .head()."
   ]
  },
  {
   "cell_type": "markdown",
   "id": "51dcf524-ae04-42a1-be19-d04d03d543ca",
   "metadata": {},
   "source": [
    "#### Signals and plotting\n",
    " - Example : generate sine and cosine wave"
   ]
  },
  {
   "cell_type": "code",
   "execution_count": 13,
   "id": "a23648c0-ff5d-4f05-861b-673ff0c16c35",
   "metadata": {},
   "outputs": [
    {
     "data": {
      "text/plain": [
       "Text(0, 0.5, 'Amplitude')"
      ]
     },
     "execution_count": 13,
     "metadata": {},
     "output_type": "execute_result"
    },
    {
     "data": {
      "image/png": "[encoded data removed]",
      "text/plain": [
       "<Figure size 600x300 with 1 Axes>"
      ]
     },
     "metadata": {},
     "output_type": "display_data"
    }
   ],
   "source": [
    "import numpy as np\n",
    "import matplotlib.pyplot as plt\n",
    "\n",
    "# Generate x values from 0 to 2π(one cycle)\n",
    "x = np.linspace(0, 2*np.pi, 100) \n",
    "\n",
    "# Sine and Cosine values\n",
    "y_sin = np.sin(x)\n",
    "y_cos = np.cos(x)\n",
    "\n",
    "# Plot\n",
    "plt.figure(figsize=(6,3))\n",
    "plt.plot(x, y_sin, label=\"Sine Wave\", color=\"blue\")\n",
    "plt.plot(x, y_cos, label=\"Cosine Wave\", color=\"red\", linestyle=\"--\")\n",
    "plt.title(\"Sine and Cosine Waves\")\n",
    "plt.xlabel(\"X (radians)\")\n",
    "plt.ylabel(\"Amplitude\")"
   ]
  },
  {
   "cell_type": "markdown",
   "id": "0d37a0f0-5dbb-455e-b329-f31532b743b6",
   "metadata": {},
   "source": [
    "#### Assignment: Write a function (straight line)\n",
    "- That computes y=mx+c, the input Argument should be x, m=0.4 and c=2\n",
    "\n",
    "```\n",
    "Example code:\n",
    "\n",
    "def straight_line(x):\n",
    "    m=0.4\n",
    "    c=2\n",
    "    y = ........... (implement formula computation here)\n",
    "    return y\n",
    "```\n",
    "\n"
   ]
  }
 ],
 "metadata": {
  "kernelspec": {
   "display_name": "Python 3 (ipykernel)",
   "language": "python",
   "name": "python3"
  },
  "language_info": {
   "codemirror_mode": {
    "name": "ipython",
    "version": 3
   },
   "file_extension": ".py",
   "mimetype": "text/x-python",
   "name": "python",
   "nbconvert_exporter": "python",
   "pygments_lexer": "ipython3",
   "version": "3.12.9"
  }
 },
 "nbformat": 4,
 "nbformat_minor": 5
}
