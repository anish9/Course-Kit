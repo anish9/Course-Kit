{
 "cells": [
  {
   "cell_type": "markdown",
   "id": "9556a327-5dde-4890-afc1-394c1f47fe57",
   "metadata": {},
   "source": [
    "# Python for Data Science in Biomedical Engineering\n",
    "This notebook will guide you through Python basics, with examples from biomedical data.\n",
    "We'll learn:\n",
    "- setup colab, pip, github intro\n",
    "- Basic Python\n",
    "# Python Data Types & Data Structures\n",
    "We will learn:\n",
    "1. Built-in Data Types (int, float, str, bool, None)\n",
    "2. Data Structures (list, tuple, set, dict)\n",
    "3. Type conversion & checking\n",
    "4. Real world uses.\n",
    "\n",
    "### Basic Data Types"
   ]
  },
  {
   "cell_type": "code",
   "execution_count": null,
   "id": "6e77b1d4-d848-4bd8-980a-fe8687153ba8",
   "metadata": {},
   "outputs": [],
   "source": [
    "import string\n",
    "import random\n",
    "# Integer - Patient age\n",
    "age = 45\n",
    "print(age, type(age))\n",
    "\n",
    "# Float - Body Mass Index (BMI)\n",
    "bmi = 27.5\n",
    "print(bmi, type(bmi))\n",
    "\n",
    "# String - Patient name\n",
    "patient_name = \"alice\"\n",
    "print(patient_name, type(patient_name))\n",
    "\n",
    "# Boolean - Test result positive or negative\n",
    "covid_test_positive = True\n",
    "print(covid_test_positive, type(covid_test_positive))\n",
    "\n",
    "# None - Missing data\n",
    "blood_sugar = None\n",
    "print(blood_sugar, type(blood_sugar))"
   ]
  },
  {
   "cell_type": "markdown",
   "id": "e0ec9df9-858f-4226-b75f-3a25ead058ba",
   "metadata": {},
   "source": [
    "### Lists (Ordered, Mutable)"
   ]
  },
  {
   "cell_type": "code",
   "execution_count": 1,
   "id": "e14eeee5-80f0-4d8a-93af-a412d933df6d",
   "metadata": {},
   "outputs": [
    {
     "name": "stdout",
     "output_type": "stream",
     "text": [
      "All readings: [98.6, 99.1, 100.2, 101.0]\n",
      "First reading: 98.6\n",
      "Last reading: 101.0\n",
      "Updated readings: [98.6, 99.1, 99.8, 101.0]\n",
      "After adding: [98.6, 99.1, 99.8, 101.0, 100.4]\n",
      "After removing: [98.6, 99.8, 101.0, 100.4]\n",
      "First two readings: [98.6, 99.8]\n"
     ]
    }
   ],
   "source": [
    "# Multiple temperature readings\n",
    "temperatures = [98.6, 99.1, 100.2, 101.0]\n",
    "print(\"All readings:\", temperatures)\n",
    "print(\"First reading:\", temperatures[0])\n",
    "print(\"Last reading:\", temperatures[-1])\n",
    "\n",
    "# Modify a reading\n",
    "temperatures[2] = 99.8\n",
    "print(\"Updated readings:\", temperatures)\n",
    "\n",
    "# Add a new reading\n",
    "temperatures.append(100.4)\n",
    "print(\"After adding:\", temperatures)\n",
    "\n",
    "# Remove a reading\n",
    "temperatures.remove(99.1)\n",
    "print(\"After removing:\", temperatures)\n",
    "\n",
    "# Slice readings\n",
    "print(\"First two readings:\", temperatures[:2])"
   ]
  },
  {
   "cell_type": "markdown",
   "id": "62cd65a9-4bbf-46a4-89d1-55c0058d8ff8",
   "metadata": {},
   "source": [
    "### Tuples (Ordered, Immutable)"
   ]
  },
  {
   "cell_type": "code",
   "execution_count": 4,
   "id": "f6e405e0-ca26-47d9-a809-e1b6f80cc354",
   "metadata": {},
   "outputs": [
    {
     "name": "stdout",
     "output_type": "stream",
     "text": [
      "(101, 'David Smith')\n",
      "Patient ID: 101\n"
     ]
    }
   ],
   "source": [
    "# Patient ID and name (fixed info)\n",
    "patient_info = (101, \"David Smith\")\n",
    "print(patient_info)\n",
    "print(\"Patient ID:\", patient_info[0])\n",
    "\n",
    "# Tuples are immutable → can't change values\n",
    "#patient_info[0] = 102  # This will cause an error"
   ]
  },
  {
   "cell_type": "markdown",
   "id": "68555ef0-d773-48df-9a95-802b09231914",
   "metadata": {},
   "source": [
    "### Sets (Unordered, Unique Items)"
   ]
  },
  {
   "cell_type": "code",
   "execution_count": 5,
   "id": "273e208c-3bc4-440a-89ff-2c4b54277dcf",
   "metadata": {},
   "outputs": [
    {
     "name": "stdout",
     "output_type": "stream",
     "text": [
      "{'B+', 'O+', 'A+', 'O-'}\n",
      "{'B+', 'A+', 'O-', 'O+', 'AB+'}\n",
      "{'B+', 'A+', 'O-', 'AB+'}\n",
      "Union: {'B+', 'A+', 'O-'}\n",
      "Intersection: {'B+'}\n"
     ]
    }
   ],
   "source": [
    "# Blood types in a sample\n",
    "blood_types = {\"A+\", \"B+\", \"O+\", \"O-\", \"A+\"}\n",
    "print(blood_types) \n",
    "\n",
    "# Add a new type\n",
    "blood_types.add(\"AB+\")\n",
    "print(blood_types)\n",
    "\n",
    "# Remove a type\n",
    "blood_types.remove(\"O+\")\n",
    "print(blood_types)\n",
    "\n",
    "# Set operations\n",
    "study_group1 = {\"A+\", \"B+\"}\n",
    "study_group2 = {\"B+\", \"O-\"}\n",
    "print(\"Union:\", study_group1 | study_group2)\n",
    "print(\"Intersection:\", study_group1 & study_group2)"
   ]
  },
  {
   "cell_type": "markdown",
   "id": "32b446a0-def8-4f99-b1c6-4d41e220ab60",
   "metadata": {},
   "source": [
    "### Dictionaries (Key-Value Pairs)"
   ]
  },
  {
   "cell_type": "code",
   "execution_count": null,
   "id": "44cfad4b-ca46-4ce0-8301-7f0bf4d46170",
   "metadata": {},
   "outputs": [],
   "source": [
    "# Patient record\n",
    "patient_record = {\n",
    "    \"ID\": 2001,\n",
    "    \"Name\": \"Emma\",\n",
    "    \"Age\": 52,\n",
    "    \"BP\": [120, 80],\n",
    "    \"Diabetic\": False\n",
    "}\n",
    "\n",
    "print(patient_record)\n",
    "print(\"Patient Name:\", patient_record[\"Name\"])\n",
    "\n",
    "# Update value\n",
    "patient_record[\"BP\"] = [125, 85]\n",
    "print(patient_record)\n",
    "\n",
    "# Add new key-value\n",
    "patient_record[\"Cholesterol\"] = 190\n",
    "print(patient_record)\n",
    "\n",
    "# Loop over dictionary\n",
    "for key, value in patient_record.items():\n",
    "    print(f\"{key} → {value}\")"
   ]
  },
  {
   "cell_type": "markdown",
   "id": "6c0a79ff-b758-4a91-bbd2-6843ed26bcec",
   "metadata": {},
   "source": [
    "### Type Conversion"
   ]
  },
  {
   "cell_type": "code",
   "execution_count": null,
   "id": "7dbfe164-63aa-4f41-b109-0fceb085f776",
   "metadata": {},
   "outputs": [],
   "source": [
    "# From string to int\n",
    "age_str = \"45\"\n",
    "age_int = int(age_str)\n",
    "print(age_int, type(age_int))\n",
    "\n",
    "# From int to float\n",
    "age_float = float(age_int)\n",
    "print(age_float, type(age_float))\n",
    "\n",
    "# From list to set\n",
    "bp_list = [120, 125, 120, 130]\n",
    "bp_set = set(bp_list)\n",
    "print(bp_set)"
   ]
  },
  {
   "cell_type": "markdown",
   "id": "48f51f43-726c-4fff-954b-4e06c15f1d78",
   "metadata": {},
   "source": [
    "### Checking Types"
   ]
  },
  {
   "cell_type": "code",
   "execution_count": null,
   "id": "ac868407-a438-48a0-9509-e088a8875b5b",
   "metadata": {},
   "outputs": [],
   "source": [
    "print(isinstance(45, int))\n",
    "print(isinstance(\"Alice\", str))\n",
    "print(isinstance([1,2,3], list))"
   ]
  },
  {
   "cell_type": "markdown",
   "id": "d410a254-9a12-4aef-aca5-cca6f2445794",
   "metadata": {},
   "source": [
    "### Control flow"
   ]
  },
  {
   "cell_type": "code",
   "execution_count": null,
   "id": "775097f8-5b33-4075-ba12-671aa45ff752",
   "metadata": {},
   "outputs": [],
   "source": [
    "# Example: Checking patient BP\n",
    "bp_sys = 140\n",
    "bp_dia = 90\n",
    "\n",
    "if bp_sys > 140 or bp_dia > 90:\n",
    "    print(\"Patient has Hypertension Stage 2\")\n",
    "elif bp_sys > 130 or bp_dia > 85:\n",
    "    print(\"Patient has Hypertension Stage 1\")\n",
    "else:\n",
    "    print(\"BP is Normal\")"
   ]
  },
  {
   "cell_type": "code",
   "execution_count": null,
   "id": "50673309-c084-40c2-9d12-0978fce9ae10",
   "metadata": {},
   "outputs": [],
   "source": [
    "# Example: Loop through patient heart rates #for loop\n",
    "heart_rates = [72, 88, 95, 102]\n",
    "\n",
    "for hr in heart_rates:\n",
    "    if hr > 100:\n",
    "        print(hr, \"→ High Heart Rate\")\n",
    "    else:\n",
    "        print(hr, \"→ Normal\")"
   ]
  },
  {
   "cell_type": "code",
   "execution_count": null,
   "id": "d0d8c03f-435f-464b-8827-1534c5f1c561",
   "metadata": {},
   "outputs": [],
   "source": [
    "# Example: Monitor glucose until it's in safe range\n",
    "glucose = 250  # mg/dL\n",
    "\n",
    "while glucose > 140:\n",
    "    print(\"Glucose too high:\", glucose)\n",
    "    glucose = glucose-20  # Simulating medicine effect\n",
    "\n",
    "print(\"Glucose normal now:\", glucose)"
   ]
  },
  {
   "cell_type": "markdown",
   "id": "00607c5f-dfd5-4d87-8693-2085e6b3d76e",
   "metadata": {},
   "source": [
    "### Test yourself - S1"
   ]
  },
  {
   "cell_type": "markdown",
   "id": "1c766112-bf3b-43b5-8f08-fac76c799f5a",
   "metadata": {},
   "source": [
    "### **Assignment**\n",
    "1. Write a program that:\n",
    "   - Takes a patient's temperature\n",
    "   - If above 100.4°F → Print \"Fever\"\n",
    "   - If between 98.6°F and 100.4°F → Print \"Slightly Elevated\"\n",
    "   - Else → Print \"Normal\"\n",
    "\n",
    "2. Given a list of glucose readings:\n",
    "   - Print each reading\n",
    "   - For readings above 140 mg/dL → Print \"High\"\n",
    "   - For readings below 70 mg/dL → Print \"Low\"\n",
    "   - Else → Print \"Normal\"\n",
    "\n",
    "3. Using a `while` loop:\n",
    "   - Start from cholesterol = 250 mg/dL\n",
    "   - Reduce it by 10 each loop until it’s ≤ 200\n",
    "   - Print cholesterol at each step"
   ]
  },
  {
   "cell_type": "markdown",
   "id": "e5362539-87fe-4b03-9085-18ca6bb0f765",
   "metadata": {},
   "source": [
    "### Functional Programming\n",
    "* A function is nothing but takes an input, operates or transforms and returns output. a real world event can be made as functions."
   ]
  },
  {
   "cell_type": "code",
   "execution_count": null,
   "id": "d0b42617-d4d3-412d-9047-78fb6deb2fcc",
   "metadata": {},
   "outputs": [],
   "source": [
    "def add(x,y):\n",
    "    return x+y\n",
    "\n",
    "\n",
    "def get_random_otp(otp_length):\n",
    "    \"\"\"\n",
    "    Args:\n",
    "        otp_length-number of digits to form OTP\n",
    "    Returns:\n",
    "        an OTP number\n",
    "    \"\"\"\n",
    "    otp=\"\"\n",
    "    \n",
    "    for _ in range(otp_length):\n",
    "        otp=otp+random.choice(string.digits)\n",
    "    return otp"
   ]
  },
  {
   "cell_type": "markdown",
   "id": "3229a62f-e295-4e5d-b467-ce25f8376694",
   "metadata": {},
   "source": [
    "### OOP concept\n",
    "* More structured programming."
   ]
  },
  {
   "cell_type": "code",
   "execution_count": null,
   "id": "c908dba9-dcb4-40af-b9d3-c896f26208b9",
   "metadata": {},
   "outputs": [],
   "source": [
    "class Patient:\n",
    "    def __init__(self, name, age, condition):\n",
    "        self.name = name\n",
    "        self.age = age\n",
    "        self.condition = condition\n",
    "        self.admitted = False\n",
    "    \n",
    "    def admit(self):\n",
    "        if not self.admitted:\n",
    "            self.admitted = True\n",
    "            print(f\"{self.name} has been admitted for {self.condition}.\")\n",
    "        else:\n",
    "            print(f\"{self.name} is already admitted.\")\n",
    "    \n",
    "    def treat(self, treatment):\n",
    "        if self.admitted:\n",
    "            print(f\"Treating {self.name} with {treatment}.\")\n",
    "        else:\n",
    "            print(f\"{self.name} is not admitted. Cannot treat.\")\n",
    "    \n",
    "    def discharge(self):\n",
    "        if self.admitted:\n",
    "            self.admitted = False\n",
    "            print(f\"{self.name} has been discharged.\")\n",
    "        else:\n",
    "            print(f\"{self.name} is not admitted.\")"
   ]
  },
  {
   "cell_type": "markdown",
   "id": "8c1d1638-8c73-429e-a44b-eff1826e8245",
   "metadata": {},
   "source": [
    "### Assignment\n",
    "- Assignment 1 – Functions\n",
    "    - Write a function multiply(x, y) that returns the product of two numbers.\n",
    "    - Write a function get_random_pin(length) that returns a random PIN using digits only (like your OTP function). use library random, strings\n",
    "      \n",
    "\n",
    "- Assignment 2 – OOP\n",
    "    - Create a Patient class with:\n",
    "    - Attributes: name, age, condition\n",
    "        - Method: introduce() → prints \"I am \"name\", \"age\" years old, suffering from \"condition\".\n",
    "        - Create one patient object and call introduce()."
   ]
  },
  {
   "cell_type": "code",
   "execution_count": null,
   "id": "64502059-4c65-4caa-a2c7-10b98deceb05",
   "metadata": {},
   "outputs": [],
   "source": []
  }
 ],
 "metadata": {
  "kernelspec": {
   "display_name": "Python 3 (ipykernel)",
   "language": "python",
   "name": "python3"
  },
  "language_info": {
   "codemirror_mode": {
    "name": "ipython",
    "version": 3
   },
   "file_extension": ".py",
   "mimetype": "text/x-python",
   "name": "python",
   "nbconvert_exporter": "python",
   "pygments_lexer": "ipython3",
   "version": "3.12.9"
  }
 },
 "nbformat": 4,
 "nbformat_minor": 5
}
